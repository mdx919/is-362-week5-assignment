{
 "cells": [
  {
   "cell_type": "markdown",
   "id": "a376b1a5",
   "metadata": {},
   "source": [
    "### importing libraries"
   ]
  },
  {
   "cell_type": "code",
   "execution_count": 2,
   "id": "db057264",
   "metadata": {},
   "outputs": [],
   "source": [
    "import pandas as pd"
   ]
  },
  {
   "cell_type": "markdown",
   "id": "4e67f6c4",
   "metadata": {},
   "source": [
    "### reading CSV files"
   ]
  },
  {
   "cell_type": "code",
   "execution_count": null,
   "id": "24da2495",
   "metadata": {},
   "outputs": [],
   "source": []
  },
  {
   "cell_type": "code",
   "execution_count": 4,
   "id": "7e0dc55a",
   "metadata": {},
   "outputs": [],
   "source": [
    "airports = pd.read_csv('airports_csv.csv')"
   ]
  },
  {
   "cell_type": "code",
   "execution_count": 7,
   "id": "5514a3e9",
   "metadata": {},
   "outputs": [],
   "source": [
    "weathers = pd.read_csv('weather_csv.csv')"
   ]
  },
  {
   "cell_type": "markdown",
   "id": "1c94687d",
   "metadata": {},
   "source": [
    "### Exploring tables"
   ]
  },
  {
   "cell_type": "code",
   "execution_count": 8,
   "id": "3e120fb6",
   "metadata": {},
   "outputs": [
    {
     "data": {
      "text/html": [
       "<div>\n",
       "<style scoped>\n",
       "    .dataframe tbody tr th:only-of-type {\n",
       "        vertical-align: middle;\n",
       "    }\n",
       "\n",
       "    .dataframe tbody tr th {\n",
       "        vertical-align: top;\n",
       "    }\n",
       "\n",
       "    .dataframe thead th {\n",
       "        text-align: right;\n",
       "    }\n",
       "</style>\n",
       "<table border=\"1\" class=\"dataframe\">\n",
       "  <thead>\n",
       "    <tr style=\"text-align: right;\">\n",
       "      <th></th>\n",
       "      <th>faa</th>\n",
       "      <th>name</th>\n",
       "      <th>lat</th>\n",
       "      <th>lon</th>\n",
       "      <th>alt</th>\n",
       "      <th>tz</th>\n",
       "      <th>dst</th>\n",
       "      <th>tzone</th>\n",
       "    </tr>\n",
       "  </thead>\n",
       "  <tbody>\n",
       "    <tr>\n",
       "      <th>0</th>\n",
       "      <td>04G</td>\n",
       "      <td>Lansdowne Airport</td>\n",
       "      <td>41.130472</td>\n",
       "      <td>-80.619583</td>\n",
       "      <td>1044</td>\n",
       "      <td>-5</td>\n",
       "      <td>A</td>\n",
       "      <td>America/New_York</td>\n",
       "    </tr>\n",
       "    <tr>\n",
       "      <th>1</th>\n",
       "      <td>06A</td>\n",
       "      <td>Moton Field Municipal Airport</td>\n",
       "      <td>32.460572</td>\n",
       "      <td>-85.680028</td>\n",
       "      <td>264</td>\n",
       "      <td>-6</td>\n",
       "      <td>A</td>\n",
       "      <td>America/Chicago</td>\n",
       "    </tr>\n",
       "    <tr>\n",
       "      <th>2</th>\n",
       "      <td>06C</td>\n",
       "      <td>Schaumburg Regional</td>\n",
       "      <td>41.989341</td>\n",
       "      <td>-88.101243</td>\n",
       "      <td>801</td>\n",
       "      <td>-6</td>\n",
       "      <td>A</td>\n",
       "      <td>America/Chicago</td>\n",
       "    </tr>\n",
       "    <tr>\n",
       "      <th>3</th>\n",
       "      <td>06N</td>\n",
       "      <td>Randall Airport</td>\n",
       "      <td>41.431912</td>\n",
       "      <td>-74.391561</td>\n",
       "      <td>523</td>\n",
       "      <td>-5</td>\n",
       "      <td>A</td>\n",
       "      <td>America/New_York</td>\n",
       "    </tr>\n",
       "    <tr>\n",
       "      <th>4</th>\n",
       "      <td>09J</td>\n",
       "      <td>Jekyll Island Airport</td>\n",
       "      <td>31.074472</td>\n",
       "      <td>-81.427778</td>\n",
       "      <td>11</td>\n",
       "      <td>-5</td>\n",
       "      <td>A</td>\n",
       "      <td>America/New_York</td>\n",
       "    </tr>\n",
       "  </tbody>\n",
       "</table>\n",
       "</div>"
      ],
      "text/plain": [
       "   faa                           name        lat        lon   alt  tz dst  \\\n",
       "0  04G              Lansdowne Airport  41.130472 -80.619583  1044  -5   A   \n",
       "1  06A  Moton Field Municipal Airport  32.460572 -85.680028   264  -6   A   \n",
       "2  06C            Schaumburg Regional  41.989341 -88.101243   801  -6   A   \n",
       "3  06N                Randall Airport  41.431912 -74.391561   523  -5   A   \n",
       "4  09J          Jekyll Island Airport  31.074472 -81.427778    11  -5   A   \n",
       "\n",
       "              tzone  \n",
       "0  America/New_York  \n",
       "1   America/Chicago  \n",
       "2   America/Chicago  \n",
       "3  America/New_York  \n",
       "4  America/New_York  "
      ]
     },
     "execution_count": 8,
     "metadata": {},
     "output_type": "execute_result"
    }
   ],
   "source": [
    "airports.head()"
   ]
  },
  {
   "cell_type": "code",
   "execution_count": 29,
   "id": "5dd60dc0",
   "metadata": {},
   "outputs": [
    {
     "data": {
      "text/html": [
       "<div>\n",
       "<style scoped>\n",
       "    .dataframe tbody tr th:only-of-type {\n",
       "        vertical-align: middle;\n",
       "    }\n",
       "\n",
       "    .dataframe tbody tr th {\n",
       "        vertical-align: top;\n",
       "    }\n",
       "\n",
       "    .dataframe thead th {\n",
       "        text-align: right;\n",
       "    }\n",
       "</style>\n",
       "<table border=\"1\" class=\"dataframe\">\n",
       "  <thead>\n",
       "    <tr style=\"text-align: right;\">\n",
       "      <th></th>\n",
       "      <th>origin</th>\n",
       "      <th>year</th>\n",
       "      <th>month</th>\n",
       "      <th>day</th>\n",
       "      <th>hour</th>\n",
       "      <th>temp</th>\n",
       "      <th>dewp</th>\n",
       "      <th>humid</th>\n",
       "      <th>wind_dir</th>\n",
       "      <th>wind_speed</th>\n",
       "      <th>wind_gust</th>\n",
       "      <th>precip</th>\n",
       "      <th>pressure</th>\n",
       "      <th>visib</th>\n",
       "      <th>time_hour</th>\n",
       "    </tr>\n",
       "  </thead>\n",
       "  <tbody>\n",
       "    <tr>\n",
       "      <th>0</th>\n",
       "      <td>EWR</td>\n",
       "      <td>2013</td>\n",
       "      <td>1</td>\n",
       "      <td>1</td>\n",
       "      <td>1</td>\n",
       "      <td>39.02</td>\n",
       "      <td>26.06</td>\n",
       "      <td>59.37</td>\n",
       "      <td>270.0</td>\n",
       "      <td>10.35702</td>\n",
       "      <td>NaN</td>\n",
       "      <td>0.0</td>\n",
       "      <td>1012.0</td>\n",
       "      <td>10.0</td>\n",
       "      <td>2013-01-01T06:00:00Z</td>\n",
       "    </tr>\n",
       "    <tr>\n",
       "      <th>1</th>\n",
       "      <td>EWR</td>\n",
       "      <td>2013</td>\n",
       "      <td>1</td>\n",
       "      <td>1</td>\n",
       "      <td>2</td>\n",
       "      <td>39.02</td>\n",
       "      <td>26.96</td>\n",
       "      <td>61.63</td>\n",
       "      <td>250.0</td>\n",
       "      <td>8.05546</td>\n",
       "      <td>NaN</td>\n",
       "      <td>0.0</td>\n",
       "      <td>1012.3</td>\n",
       "      <td>10.0</td>\n",
       "      <td>2013-01-01T07:00:00Z</td>\n",
       "    </tr>\n",
       "    <tr>\n",
       "      <th>2</th>\n",
       "      <td>EWR</td>\n",
       "      <td>2013</td>\n",
       "      <td>1</td>\n",
       "      <td>1</td>\n",
       "      <td>3</td>\n",
       "      <td>39.02</td>\n",
       "      <td>28.04</td>\n",
       "      <td>64.43</td>\n",
       "      <td>240.0</td>\n",
       "      <td>11.50780</td>\n",
       "      <td>NaN</td>\n",
       "      <td>0.0</td>\n",
       "      <td>1012.5</td>\n",
       "      <td>10.0</td>\n",
       "      <td>2013-01-01T08:00:00Z</td>\n",
       "    </tr>\n",
       "    <tr>\n",
       "      <th>3</th>\n",
       "      <td>EWR</td>\n",
       "      <td>2013</td>\n",
       "      <td>1</td>\n",
       "      <td>1</td>\n",
       "      <td>4</td>\n",
       "      <td>39.92</td>\n",
       "      <td>28.04</td>\n",
       "      <td>62.21</td>\n",
       "      <td>250.0</td>\n",
       "      <td>12.65858</td>\n",
       "      <td>NaN</td>\n",
       "      <td>0.0</td>\n",
       "      <td>1012.2</td>\n",
       "      <td>10.0</td>\n",
       "      <td>2013-01-01T09:00:00Z</td>\n",
       "    </tr>\n",
       "    <tr>\n",
       "      <th>4</th>\n",
       "      <td>EWR</td>\n",
       "      <td>2013</td>\n",
       "      <td>1</td>\n",
       "      <td>1</td>\n",
       "      <td>5</td>\n",
       "      <td>39.02</td>\n",
       "      <td>28.04</td>\n",
       "      <td>64.43</td>\n",
       "      <td>260.0</td>\n",
       "      <td>12.65858</td>\n",
       "      <td>NaN</td>\n",
       "      <td>0.0</td>\n",
       "      <td>1011.9</td>\n",
       "      <td>10.0</td>\n",
       "      <td>2013-01-01T10:00:00Z</td>\n",
       "    </tr>\n",
       "  </tbody>\n",
       "</table>\n",
       "</div>"
      ],
      "text/plain": [
       "  origin  year  month  day  hour   temp   dewp  humid  wind_dir  wind_speed  \\\n",
       "0    EWR  2013      1    1     1  39.02  26.06  59.37     270.0    10.35702   \n",
       "1    EWR  2013      1    1     2  39.02  26.96  61.63     250.0     8.05546   \n",
       "2    EWR  2013      1    1     3  39.02  28.04  64.43     240.0    11.50780   \n",
       "3    EWR  2013      1    1     4  39.92  28.04  62.21     250.0    12.65858   \n",
       "4    EWR  2013      1    1     5  39.02  28.04  64.43     260.0    12.65858   \n",
       "\n",
       "   wind_gust  precip  pressure  visib             time_hour  \n",
       "0        NaN     0.0    1012.0   10.0  2013-01-01T06:00:00Z  \n",
       "1        NaN     0.0    1012.3   10.0  2013-01-01T07:00:00Z  \n",
       "2        NaN     0.0    1012.5   10.0  2013-01-01T08:00:00Z  \n",
       "3        NaN     0.0    1012.2   10.0  2013-01-01T09:00:00Z  \n",
       "4        NaN     0.0    1011.9   10.0  2013-01-01T10:00:00Z  "
      ]
     },
     "execution_count": 29,
     "metadata": {},
     "output_type": "execute_result"
    }
   ],
   "source": [
    "weathers.head()"
   ]
  },
  {
   "cell_type": "markdown",
   "id": "4bfacb35",
   "metadata": {},
   "source": [
    "### What is the northernmost airport in the United States?"
   ]
  },
  {
   "cell_type": "markdown",
   "id": "f65c0bdf",
   "metadata": {},
   "source": [
    "#### Northern most airport will have the max positive latitude. So we will find the max lat from the airport data and find the airport."
   ]
  },
  {
   "cell_type": "code",
   "execution_count": 51,
   "id": "d4c233f7",
   "metadata": {},
   "outputs": [],
   "source": [
    "northern_5_most_airports = airports.sort_values('lat', ascending= False).head()"
   ]
  },
  {
   "cell_type": "code",
   "execution_count": 52,
   "id": "c66f02eb",
   "metadata": {},
   "outputs": [
    {
     "data": {
      "text/html": [
       "<div>\n",
       "<style scoped>\n",
       "    .dataframe tbody tr th:only-of-type {\n",
       "        vertical-align: middle;\n",
       "    }\n",
       "\n",
       "    .dataframe tbody tr th {\n",
       "        vertical-align: top;\n",
       "    }\n",
       "\n",
       "    .dataframe thead th {\n",
       "        text-align: right;\n",
       "    }\n",
       "</style>\n",
       "<table border=\"1\" class=\"dataframe\">\n",
       "  <thead>\n",
       "    <tr style=\"text-align: right;\">\n",
       "      <th></th>\n",
       "      <th>faa</th>\n",
       "      <th>name</th>\n",
       "      <th>lat</th>\n",
       "      <th>lon</th>\n",
       "      <th>alt</th>\n",
       "      <th>tz</th>\n",
       "      <th>dst</th>\n",
       "      <th>tzone</th>\n",
       "    </tr>\n",
       "  </thead>\n",
       "  <tbody>\n",
       "    <tr>\n",
       "      <th>417</th>\n",
       "      <td>EEN</td>\n",
       "      <td>Dillant Hopkins Airport</td>\n",
       "      <td>72.270833</td>\n",
       "      <td>42.898333</td>\n",
       "      <td>149</td>\n",
       "      <td>-5</td>\n",
       "      <td>A</td>\n",
       "      <td>NaN</td>\n",
       "    </tr>\n",
       "    <tr>\n",
       "      <th>230</th>\n",
       "      <td>BRW</td>\n",
       "      <td>Wiley Post Will Rogers Mem</td>\n",
       "      <td>71.285446</td>\n",
       "      <td>-156.766003</td>\n",
       "      <td>44</td>\n",
       "      <td>-9</td>\n",
       "      <td>A</td>\n",
       "      <td>America/Anchorage</td>\n",
       "    </tr>\n",
       "    <tr>\n",
       "      <th>110</th>\n",
       "      <td>AIN</td>\n",
       "      <td>Wainwright Airport</td>\n",
       "      <td>70.638056</td>\n",
       "      <td>-159.994722</td>\n",
       "      <td>41</td>\n",
       "      <td>-9</td>\n",
       "      <td>A</td>\n",
       "      <td>America/Anchorage</td>\n",
       "    </tr>\n",
       "    <tr>\n",
       "      <th>708</th>\n",
       "      <td>K03</td>\n",
       "      <td>Wainwright As</td>\n",
       "      <td>70.613378</td>\n",
       "      <td>-159.860350</td>\n",
       "      <td>35</td>\n",
       "      <td>-9</td>\n",
       "      <td>A</td>\n",
       "      <td>America/Anchorage</td>\n",
       "    </tr>\n",
       "    <tr>\n",
       "      <th>152</th>\n",
       "      <td>ATK</td>\n",
       "      <td>Atqasuk Edward Burnell Sr Memorial Airport</td>\n",
       "      <td>70.467300</td>\n",
       "      <td>-157.436000</td>\n",
       "      <td>96</td>\n",
       "      <td>-9</td>\n",
       "      <td>A</td>\n",
       "      <td>America/Anchorage</td>\n",
       "    </tr>\n",
       "  </tbody>\n",
       "</table>\n",
       "</div>"
      ],
      "text/plain": [
       "     faa                                        name        lat         lon  \\\n",
       "417  EEN                     Dillant Hopkins Airport  72.270833   42.898333   \n",
       "230  BRW                  Wiley Post Will Rogers Mem  71.285446 -156.766003   \n",
       "110  AIN                          Wainwright Airport  70.638056 -159.994722   \n",
       "708  K03                               Wainwright As  70.613378 -159.860350   \n",
       "152  ATK  Atqasuk Edward Burnell Sr Memorial Airport  70.467300 -157.436000   \n",
       "\n",
       "     alt  tz dst              tzone  \n",
       "417  149  -5   A                NaN  \n",
       "230   44  -9   A  America/Anchorage  \n",
       "110   41  -9   A  America/Anchorage  \n",
       "708   35  -9   A  America/Anchorage  \n",
       "152   96  -9   A  America/Anchorage  "
      ]
     },
     "execution_count": 52,
     "metadata": {},
     "output_type": "execute_result"
    }
   ],
   "source": [
    "northern_5_most_airports"
   ]
  },
  {
   "cell_type": "markdown",
   "id": "98ce3ecf",
   "metadata": {},
   "source": [
    "#### According to data 'Dillant Hopkins Airport' is the northern most airport but according to google 'Wiley Post Will Rogers Mem' is the northern most airport. "
   ]
  },
  {
   "cell_type": "markdown",
   "id": "923b3df7",
   "metadata": {},
   "source": [
    "### What is the easternmost airport in the United States?"
   ]
  },
  {
   "cell_type": "markdown",
   "id": "1f0bb06a",
   "metadata": {},
   "source": [
    "#### Eastern most airport will have the max positive longitude. So we will find the max lon from the airport data and find the airport."
   ]
  },
  {
   "cell_type": "code",
   "execution_count": 54,
   "id": "3aa18f42",
   "metadata": {},
   "outputs": [],
   "source": [
    "eastern_5_most_airports = airports.sort_values('lon', ascending= False).head()"
   ]
  },
  {
   "cell_type": "code",
   "execution_count": 55,
   "id": "c5392459",
   "metadata": {},
   "outputs": [
    {
     "data": {
      "text/html": [
       "<div>\n",
       "<style scoped>\n",
       "    .dataframe tbody tr th:only-of-type {\n",
       "        vertical-align: middle;\n",
       "    }\n",
       "\n",
       "    .dataframe tbody tr th {\n",
       "        vertical-align: top;\n",
       "    }\n",
       "\n",
       "    .dataframe thead th {\n",
       "        text-align: right;\n",
       "    }\n",
       "</style>\n",
       "<table border=\"1\" class=\"dataframe\">\n",
       "  <thead>\n",
       "    <tr style=\"text-align: right;\">\n",
       "      <th></th>\n",
       "      <th>faa</th>\n",
       "      <th>name</th>\n",
       "      <th>lat</th>\n",
       "      <th>lon</th>\n",
       "      <th>alt</th>\n",
       "      <th>tz</th>\n",
       "      <th>dst</th>\n",
       "      <th>tzone</th>\n",
       "    </tr>\n",
       "  </thead>\n",
       "  <tbody>\n",
       "    <tr>\n",
       "      <th>1290</th>\n",
       "      <td>SYA</td>\n",
       "      <td>Eareckson As</td>\n",
       "      <td>52.712275</td>\n",
       "      <td>174.113620</td>\n",
       "      <td>98</td>\n",
       "      <td>-9</td>\n",
       "      <td>A</td>\n",
       "      <td>America/Anchorage</td>\n",
       "    </tr>\n",
       "    <tr>\n",
       "      <th>942</th>\n",
       "      <td>MYF</td>\n",
       "      <td>Montgomery Field</td>\n",
       "      <td>32.475900</td>\n",
       "      <td>117.759000</td>\n",
       "      <td>17</td>\n",
       "      <td>8</td>\n",
       "      <td>A</td>\n",
       "      <td>Asia/Chongqing</td>\n",
       "    </tr>\n",
       "    <tr>\n",
       "      <th>396</th>\n",
       "      <td>DVT</td>\n",
       "      <td>Deer Valley Municipal Airport</td>\n",
       "      <td>33.411700</td>\n",
       "      <td>112.457000</td>\n",
       "      <td>1478</td>\n",
       "      <td>8</td>\n",
       "      <td>A</td>\n",
       "      <td>Asia/Chongqing</td>\n",
       "    </tr>\n",
       "    <tr>\n",
       "      <th>417</th>\n",
       "      <td>EEN</td>\n",
       "      <td>Dillant Hopkins Airport</td>\n",
       "      <td>72.270833</td>\n",
       "      <td>42.898333</td>\n",
       "      <td>149</td>\n",
       "      <td>-5</td>\n",
       "      <td>A</td>\n",
       "      <td>NaN</td>\n",
       "    </tr>\n",
       "    <tr>\n",
       "      <th>444</th>\n",
       "      <td>EPM</td>\n",
       "      <td>Eastport Municipal Airport</td>\n",
       "      <td>44.910111</td>\n",
       "      <td>-67.012694</td>\n",
       "      <td>45</td>\n",
       "      <td>-5</td>\n",
       "      <td>A</td>\n",
       "      <td>America/New_York</td>\n",
       "    </tr>\n",
       "  </tbody>\n",
       "</table>\n",
       "</div>"
      ],
      "text/plain": [
       "      faa                           name        lat         lon   alt  tz dst  \\\n",
       "1290  SYA                   Eareckson As  52.712275  174.113620    98  -9   A   \n",
       "942   MYF               Montgomery Field  32.475900  117.759000    17   8   A   \n",
       "396   DVT  Deer Valley Municipal Airport  33.411700  112.457000  1478   8   A   \n",
       "417   EEN        Dillant Hopkins Airport  72.270833   42.898333   149  -5   A   \n",
       "444   EPM     Eastport Municipal Airport  44.910111  -67.012694    45  -5   A   \n",
       "\n",
       "                  tzone  \n",
       "1290  America/Anchorage  \n",
       "942      Asia/Chongqing  \n",
       "396      Asia/Chongqing  \n",
       "417                 NaN  \n",
       "444    America/New_York  "
      ]
     },
     "execution_count": 55,
     "metadata": {},
     "output_type": "execute_result"
    }
   ],
   "source": [
    "eastern_5_most_airports"
   ]
  },
  {
   "cell_type": "markdown",
   "id": "a3141759",
   "metadata": {},
   "source": [
    "#### Eastern most airport is 'Eareckson As' according data. But after googling i relaized that coordinated for top 3 airports is wrong. The lon should be negative but its positive in the table. Actual eastern most airport is 'Bangor International Airport'."
   ]
  },
  {
   "cell_type": "markdown",
   "id": "0235df42",
   "metadata": {},
   "source": [
    "### On February 12th, 2013, which New York area airport had the windiest weather?"
   ]
  },
  {
   "cell_type": "markdown",
   "id": "b802d821",
   "metadata": {},
   "source": [
    "#### checking for all the nyc airports"
   ]
  },
  {
   "cell_type": "code",
   "execution_count": 15,
   "id": "2cbce5fe",
   "metadata": {},
   "outputs": [
    {
     "data": {
      "text/plain": [
       "array(['EWR', 'JFK', 'LGA'], dtype=object)"
      ]
     },
     "execution_count": 15,
     "metadata": {},
     "output_type": "execute_result"
    }
   ],
   "source": [
    "weathers.origin.unique()"
   ]
  },
  {
   "cell_type": "markdown",
   "id": "7fca8658",
   "metadata": {},
   "source": [
    "#### filtering for JFK and LGA airports"
   ]
  },
  {
   "cell_type": "code",
   "execution_count": 17,
   "id": "0cf6749a",
   "metadata": {},
   "outputs": [],
   "source": [
    "weathers_nyc_airports = weathers[(weathers.origin == 'JFK') | (weathers.origin == 'LGA')]"
   ]
  },
  {
   "cell_type": "markdown",
   "id": "8f55c15f",
   "metadata": {},
   "source": [
    "#### filtering for only feb 12th 2013 data"
   ]
  },
  {
   "cell_type": "code",
   "execution_count": 20,
   "id": "a9bad4a7",
   "metadata": {},
   "outputs": [],
   "source": [
    "weathers_2013_feb = weathers_nyc_airports[(weathers_nyc_airports.year == 2013) & (weathers_nyc_airports.month == 2) &\n",
    "                                          (weathers_nyc_airports.day == 12)]"
   ]
  },
  {
   "cell_type": "markdown",
   "id": "1fdd47cc",
   "metadata": {},
   "source": [
    "#### windiest airport will have max wind_speed"
   ]
  },
  {
   "cell_type": "code",
   "execution_count": 22,
   "id": "33cc6a98",
   "metadata": {},
   "outputs": [],
   "source": [
    "max_wind_speed = weathers_2013_feb.wind_speed.max()"
   ]
  },
  {
   "cell_type": "code",
   "execution_count": 24,
   "id": "4b0bd54c",
   "metadata": {},
   "outputs": [],
   "source": [
    "windiest_airport = weathers_2013_feb[weathers_2013_feb.wind_speed == max_wind_speed]"
   ]
  },
  {
   "cell_type": "code",
   "execution_count": 42,
   "id": "0914cd16",
   "metadata": {},
   "outputs": [
    {
     "name": "stdout",
     "output_type": "stream",
     "text": [
      "Windiest NYC airport is--- LGA\n"
     ]
    }
   ],
   "source": [
    "print(\"Windiest NYC airport is---\", windiest_airport.origin.iloc[0])"
   ]
  },
  {
   "cell_type": "markdown",
   "id": "5a434bb1",
   "metadata": {},
   "source": [
    "### we sorted and looked into wind_speed distribution and did not find any extreme outlier"
   ]
  },
  {
   "cell_type": "code",
   "execution_count": 48,
   "id": "ada1819d",
   "metadata": {},
   "outputs": [],
   "source": [
    "wind_dist = weathers_2013_feb.sort_values('wind_speed', ascending= False)"
   ]
  },
  {
   "cell_type": "code",
   "execution_count": 49,
   "id": "6c24491d",
   "metadata": {},
   "outputs": [
    {
     "data": {
      "text/html": [
       "<div>\n",
       "<style scoped>\n",
       "    .dataframe tbody tr th:only-of-type {\n",
       "        vertical-align: middle;\n",
       "    }\n",
       "\n",
       "    .dataframe tbody tr th {\n",
       "        vertical-align: top;\n",
       "    }\n",
       "\n",
       "    .dataframe thead th {\n",
       "        text-align: right;\n",
       "    }\n",
       "</style>\n",
       "<table border=\"1\" class=\"dataframe\">\n",
       "  <thead>\n",
       "    <tr style=\"text-align: right;\">\n",
       "      <th></th>\n",
       "      <th>origin</th>\n",
       "      <th>year</th>\n",
       "      <th>month</th>\n",
       "      <th>day</th>\n",
       "      <th>hour</th>\n",
       "      <th>temp</th>\n",
       "      <th>dewp</th>\n",
       "      <th>humid</th>\n",
       "      <th>wind_dir</th>\n",
       "      <th>wind_speed</th>\n",
       "      <th>wind_gust</th>\n",
       "      <th>precip</th>\n",
       "      <th>pressure</th>\n",
       "      <th>visib</th>\n",
       "      <th>time_hour</th>\n",
       "    </tr>\n",
       "  </thead>\n",
       "  <tbody>\n",
       "    <tr>\n",
       "      <th>18417</th>\n",
       "      <td>LGA</td>\n",
       "      <td>2013</td>\n",
       "      <td>2</td>\n",
       "      <td>12</td>\n",
       "      <td>2</td>\n",
       "      <td>42.98</td>\n",
       "      <td>26.06</td>\n",
       "      <td>50.94</td>\n",
       "      <td>290.0</td>\n",
       "      <td>23.01560</td>\n",
       "      <td>31.07106</td>\n",
       "      <td>0.0</td>\n",
       "      <td>1007.1</td>\n",
       "      <td>10.0</td>\n",
       "      <td>2013-02-12T07:00:00Z</td>\n",
       "    </tr>\n",
       "    <tr>\n",
       "      <th>18428</th>\n",
       "      <td>LGA</td>\n",
       "      <td>2013</td>\n",
       "      <td>2</td>\n",
       "      <td>12</td>\n",
       "      <td>13</td>\n",
       "      <td>44.06</td>\n",
       "      <td>23.00</td>\n",
       "      <td>43.02</td>\n",
       "      <td>300.0</td>\n",
       "      <td>21.86482</td>\n",
       "      <td>25.31716</td>\n",
       "      <td>0.0</td>\n",
       "      <td>1011.7</td>\n",
       "      <td>10.0</td>\n",
       "      <td>2013-02-12T18:00:00Z</td>\n",
       "    </tr>\n",
       "    <tr>\n",
       "      <th>18429</th>\n",
       "      <td>LGA</td>\n",
       "      <td>2013</td>\n",
       "      <td>2</td>\n",
       "      <td>12</td>\n",
       "      <td>14</td>\n",
       "      <td>44.06</td>\n",
       "      <td>23.00</td>\n",
       "      <td>43.02</td>\n",
       "      <td>300.0</td>\n",
       "      <td>20.71404</td>\n",
       "      <td>25.31716</td>\n",
       "      <td>0.0</td>\n",
       "      <td>1011.5</td>\n",
       "      <td>10.0</td>\n",
       "      <td>2013-02-12T19:00:00Z</td>\n",
       "    </tr>\n",
       "    <tr>\n",
       "      <th>9717</th>\n",
       "      <td>JFK</td>\n",
       "      <td>2013</td>\n",
       "      <td>2</td>\n",
       "      <td>12</td>\n",
       "      <td>8</td>\n",
       "      <td>42.08</td>\n",
       "      <td>24.08</td>\n",
       "      <td>48.56</td>\n",
       "      <td>280.0</td>\n",
       "      <td>20.71404</td>\n",
       "      <td>27.61872</td>\n",
       "      <td>0.0</td>\n",
       "      <td>1011.6</td>\n",
       "      <td>10.0</td>\n",
       "      <td>2013-02-12T13:00:00Z</td>\n",
       "    </tr>\n",
       "    <tr>\n",
       "      <th>18427</th>\n",
       "      <td>LGA</td>\n",
       "      <td>2013</td>\n",
       "      <td>2</td>\n",
       "      <td>12</td>\n",
       "      <td>12</td>\n",
       "      <td>44.06</td>\n",
       "      <td>23.00</td>\n",
       "      <td>43.02</td>\n",
       "      <td>270.0</td>\n",
       "      <td>19.56326</td>\n",
       "      <td>26.46794</td>\n",
       "      <td>0.0</td>\n",
       "      <td>1011.8</td>\n",
       "      <td>10.0</td>\n",
       "      <td>2013-02-12T17:00:00Z</td>\n",
       "    </tr>\n",
       "  </tbody>\n",
       "</table>\n",
       "</div>"
      ],
      "text/plain": [
       "      origin  year  month  day  hour   temp   dewp  humid  wind_dir  \\\n",
       "18417    LGA  2013      2   12     2  42.98  26.06  50.94     290.0   \n",
       "18428    LGA  2013      2   12    13  44.06  23.00  43.02     300.0   \n",
       "18429    LGA  2013      2   12    14  44.06  23.00  43.02     300.0   \n",
       "9717     JFK  2013      2   12     8  42.08  24.08  48.56     280.0   \n",
       "18427    LGA  2013      2   12    12  44.06  23.00  43.02     270.0   \n",
       "\n",
       "       wind_speed  wind_gust  precip  pressure  visib             time_hour  \n",
       "18417    23.01560   31.07106     0.0    1007.1   10.0  2013-02-12T07:00:00Z  \n",
       "18428    21.86482   25.31716     0.0    1011.7   10.0  2013-02-12T18:00:00Z  \n",
       "18429    20.71404   25.31716     0.0    1011.5   10.0  2013-02-12T19:00:00Z  \n",
       "9717     20.71404   27.61872     0.0    1011.6   10.0  2013-02-12T13:00:00Z  \n",
       "18427    19.56326   26.46794     0.0    1011.8   10.0  2013-02-12T17:00:00Z  "
      ]
     },
     "execution_count": 49,
     "metadata": {},
     "output_type": "execute_result"
    }
   ],
   "source": [
    "wind_dist.head()"
   ]
  },
  {
   "cell_type": "code",
   "execution_count": null,
   "id": "5a043f40",
   "metadata": {},
   "outputs": [],
   "source": []
  }
 ],
 "metadata": {
  "kernelspec": {
   "display_name": "Python 3 (ipykernel)",
   "language": "python",
   "name": "python3"
  },
  "language_info": {
   "codemirror_mode": {
    "name": "ipython",
    "version": 3
   },
   "file_extension": ".py",
   "mimetype": "text/x-python",
   "name": "python",
   "nbconvert_exporter": "python",
   "pygments_lexer": "ipython3",
   "version": "3.9.10"
  }
 },
 "nbformat": 4,
 "nbformat_minor": 5
}
